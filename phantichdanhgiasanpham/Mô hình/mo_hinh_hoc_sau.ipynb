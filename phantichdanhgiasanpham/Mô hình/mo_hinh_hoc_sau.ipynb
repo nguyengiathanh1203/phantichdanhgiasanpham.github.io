import pandas as pd
import numpy as np
import re
from nltk.corpus import stopwords
from nltk.stem import WordNetLemmatizer 
from tensorflow.keras.preprocessing.text import Tokenizer 
from tensorflow.keras.preprocessing.sequence import pad_sequences 
from tensorflow.keras.utils import to_categorical 
from sklearn.model_selection import train_test_split
from sklearn.metrics import classification_report
# Đọc dữ liệu
df = pd.read_csv('Reviews.csv')

# Chuyển đổi thời gian thành datetime
df['Time'] = pd.to_datetime(df['Time'], unit='s')

# Lọc các bản ghi của năm 2012
df_2012 = df[df['Time'].dt.year == 2012]

# Gán nhãn cảm xúc
def score_to_label(score):
    if score >= 4:
        return 'positive'
    elif score == 3:
        return 'neutral'
    else:
        return 'negative'

df_2012.loc[:, 'Label'] = df_2012['Score'].apply(score_to_label)

# Giữ lại các cột cần thiết
df_2012 = df_2012[['ProductId', 'Text', 'Label']]


# ===== TIỀN XỬ LÝ VĂN BẢN =====
# Khởi tạo các công cụ tiền xử lý
stop_words = set(stopwords.words('english'))
lemmatizer = WordNetLemmatizer()

# Hàm tiền xử lý
def clean_text(text):
    text = text.lower()  # chuyển về chữ thường
    text = re.sub(r'[^a-z0-9\s]', '', text)  # bỏ ký tự đặc biệt
    text = re.sub(r'\s+', ' ', text).strip()  # bỏ khoảng trắng thừa
    text = " ".join([lemmatizer.lemmatize(word) for word in text.split() if word not in stop_words])  # loại bỏ stopwords và lemmatize
    return text

df_2012['Text'] = df_2012['Text'].apply(clean_text)

# ===== CHUẨN BỊ DỮ LIỆU =====
X = df_2012['Text']
y = df_2012['Label']

# Mã hóa nhãn thành số và one-hot
y = y.map({'positive': 0, 'neutral': 1, 'negative': 2})
y = to_categorical(y, num_classes=3)

# Tokenizer văn bản
max_len = 200
tokenizer = Tokenizer()
tokenizer.fit_on_texts(X)

X_seq = tokenizer.texts_to_sequences(X)
X_pad = pad_sequences(X_seq, maxlen=max_len)

# Chia tập train/test
X_train, X_test, y_train, y_test = train_test_split(X_pad, y, test_size=0.2, random_state=42)

# ===== XÂY DỰNG MÔ HÌNH LSTM =====
from tensorflow.keras.models import Sequential
from tensorflow.keras.layers import Embedding, LSTM, Dense, Dropout
from tensorflow.keras.callbacks import EarlyStopping

model = Sequential()
model.add(Embedding(input_dim=len(tokenizer.word_index) + 1, output_dim=128, input_length=max_len))
model.add(LSTM(256, dropout=0.3, recurrent_dropout=0.3))
model.add(Dropout(0.3))
model.add(Dense(3, activation='softmax'))

# Thiết lập EarlyStopping
early_stop = EarlyStopping(monitor='val_loss', patience=2, restore_best_weights=True)

# Biên dịch mô hình
model.compile(loss='categorical_crossentropy', optimizer='adam', metrics=['accuracy'])

# Tóm tắt mô hình
model.summary()

# ===== HUẤN LUYỆN MÔ HÌNH =====
history = model.fit(X_train, y_train, epochs=5, batch_size=64, validation_data=(X_test, y_test), callbacks=(early_stop))

# Đánh giá mô hình
score, accuracy = model.evaluate(X_test, y_test, batch_size=64)
print(f'Test accuracy: {accuracy * 100:.2f}%')

# Tính precision, recall, f1-score
y_pred_probs = model.predict(X_test)
y_pred = np.argmax(y_pred_probs, axis=1)
y_true = np.argmax(y_test, axis=1)

print("\n=== Báo cáo Precision / Recall / F1-score ===")
print(classification_report(y_true, y_pred, target_names=['positive', 'neutral', 'negative']))

# Thống kê số lượng đánh giá
product_summary = df_2012['ProductId'].value_counts()

print("\nTóm tắt số lượng đánh giá và cảm xúc của 10 sản phẩm đã xử lý:")
for product_id, count in product_summary.items():
    print(f"Product ID: {product_id} — Số lượng đánh giá: {count}")
    label_counts = df_2012[df_2012['ProductId'] == product_id]['Label'].value_counts()
    for label, label_count in label_counts.items():
        print(f"    {label}: {label_count}")
