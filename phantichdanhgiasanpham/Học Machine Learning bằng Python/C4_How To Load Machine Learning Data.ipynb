{
 "cells": [
  {
   "cell_type": "markdown",
   "metadata": {},
   "source": [
    "# Chapter 4: How To Load Machine Learning Data"
   ]
  },
  {
   "cell_type": "markdown",
   "metadata": {},
   "source": [
    "## 4.3. Load CSV Files with the Python Standard Library"
   ]
  },
  {
   "cell_type": "code",
   "execution_count": null,
   "metadata": {},
   "outputs": [
    {
     "name": "stdout",
     "output_type": "stream",
     "text": [
      "(768, 9)\n"
     ]
    }
   ],
   "source": [
    "# Load CSV Using Python Standard Library\n",
    "import csv\n",
    "import numpy as np\n",
    "\n",
    "filename = 'pima-indians-diabetes-dataset.csv' # File thay thế\n",
    "\n",
    "# Mở file CSV và đọc dữ liệu\n",
    "with open(filename, 'r', newline='') as raw_data:\n",
    "    reader = csv.reader(raw_data, delimiter=',', quoting=csv.QUOTE_NONE)\n",
    "    # Bỏ qua dòng tiêu đề (header)\n",
    "    next(reader)\n",
    "    # Đọc các dòng dữ liệu và chuyển sang dạng số\n",
    "    x = [list(map(float, row)) for row in reader]\n",
    "# Chuyển danh sách thành numpy array\n",
    "data = np.array(x, dtype=float)\n",
    "print(data.shape)"
   ]
  },
  {
   "cell_type": "markdown",
   "metadata": {},
   "source": [
    "## 4.4. Load CSV Files with NumPy"
   ]
  },
  {
   "cell_type": "code",
   "execution_count": null,
   "metadata": {},
   "outputs": [
    {
     "name": "stdout",
     "output_type": "stream",
     "text": [
      "(768, 9)\n"
     ]
    }
   ],
   "source": [
    "# Load CSV using NumPy\n",
    "import numpy as np\n",
    "filename = 'pima-indians-diabetes-dataset.csv' # File thay thế\n",
    "# Sử dụng np.loadtxt nhưng bỏ qua dòng đầu tiên (header)\n",
    "data = np.loadtxt(filename, delimiter=\",\", skiprows=1)\n",
    "print(data.shape)"
   ]
  },
  {
   "cell_type": "markdown",
   "metadata": {},
   "source": [
    "## 4.5. Load CSV Files with Pandas"
   ]
  },
  {
   "cell_type": "code",
   "execution_count": null,
   "metadata": {},
   "outputs": [
    {
     "name": "stdout",
     "output_type": "stream",
     "text": [
      "(768, 9)\n"
     ]
    }
   ],
   "source": [
    "# Load CSV using Pandas\n",
    "import pandas as pd\n",
    "filename = 'pima-indians-diabetes-dataset.csv' # File thay thế\n",
    "# Đổi names cho phù hợp với file\n",
    "names = ['Pregnancies', 'Glucose', 'BloodPressure', 'SkinThickness', 'Insulin', 'BMI', 'DiabetesPedigreeFunction', 'Age', 'Outcome']\n",
    "# Đọc file CSV, bỏ qua dòng tiêu đề gốc để sử dụng danh sách tên cột đã định nghĩa\n",
    "data = pd.read_csv(filename, names=names, header=0)\n",
    "print(data.shape)"
   ]
  }
 ],
 "metadata": {
  "kernelspec": {
   "display_name": "Python 3",
   "language": "python",
   "name": "python3"
  },
  "language_info": {
   "codemirror_mode": {
    "name": "ipython",
    "version": 3
   },
   "file_extension": ".py",
   "mimetype": "text/x-python",
   "name": "python",
   "nbconvert_exporter": "python",
   "pygments_lexer": "ipython3",
   "version": "3.12.1"
  }
 },
 "nbformat": 4,
 "nbformat_minor": 2
}
