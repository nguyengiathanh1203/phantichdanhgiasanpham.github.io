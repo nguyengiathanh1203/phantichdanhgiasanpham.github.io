{
 "cells": [
  {
   "cell_type": "markdown",
   "id": "9582cb8e",
   "metadata": {},
   "source": [
    "# Chapter 12: Spot-Check Regression Algorithms"
   ]
  },
  {
   "cell_type": "markdown",
   "id": "dc5fafa0",
   "metadata": {},
   "source": [
    "## 12.2. Linear Machine Learning Algorithms"
   ]
  },
  {
   "cell_type": "markdown",
   "id": "d8905b69",
   "metadata": {},
   "source": [
    "### 12.2.1. Linear Regression"
   ]
  },
  {
   "cell_type": "code",
   "execution_count": null,
   "id": "e525e18f",
   "metadata": {},
   "outputs": [
    {
     "name": "stdout",
     "output_type": "stream",
     "text": [
      "Mean Squared Error (neg): -23.747\n"
     ]
    }
   ],
   "source": [
    "# Linear Regression\n",
    "from pandas import read_csv\n",
    "from sklearn.model_selection import KFold\n",
    "from sklearn.model_selection import cross_val_score\n",
    "from sklearn.linear_model import LinearRegression\n",
    "# Tên file dữ liệu\n",
    "filename = 'housing.csv'\n",
    "# Tên cột\n",
    "names = ['CRIM', 'ZN', 'INDUS', 'CHAS', 'NOX', 'RM', 'AGE', 'DIS', 'RAD', 'TAX', 'PTRATIO', 'B', 'LSTAT', 'MEDV']\n",
    "# Đọc file CSV (ngăn cách bằng dấu phẩy)\n",
    "dataframe = read_csv(filename, names=names, header=0)  # header=0 nếu có dòng tiêu đề\n",
    "# Tách dữ liệu\n",
    "array = dataframe.values\n",
    "X = array[:, 0:13]\n",
    "Y = array[:, 13]\n",
    "# KFold cross-validation\n",
    "kfold = KFold(n_splits=10, shuffle=True, random_state=7)  # Thêm shuffle để tránh bias\n",
    "model = LinearRegression()\n",
    "scoring = 'neg_mean_squared_error'\n",
    "# Đánh giá mô hình\n",
    "results = cross_val_score(model, X, Y, cv=kfold, scoring=scoring)\n",
    "# In kết quả\n",
    "print(\"Mean Squared Error (neg): %.3f\" % results.mean())"
   ]
  },
  {
   "cell_type": "markdown",
   "id": "b277c7ff",
   "metadata": {},
   "source": [
    "### 12.2.2. Ridge Regression"
   ]
  },
  {
   "cell_type": "code",
   "execution_count": 5,
   "id": "2db28f2b",
   "metadata": {},
   "outputs": [
    {
     "name": "stdout",
     "output_type": "stream",
     "text": [
      "-23.889890185053435\n"
     ]
    }
   ],
   "source": [
    "# Ridge Regression\n",
    "from pandas import read_csv\n",
    "from sklearn.model_selection import KFold, cross_val_score\n",
    "from sklearn.linear_model import Ridge\n",
    "# Tên file dữ liệu\n",
    "filename = 'housing.csv'\n",
    "# Tên cột\n",
    "names = ['CRIM', 'ZN', 'INDUS', 'CHAS', 'NOX', 'RM', 'AGE', 'DIS', 'RAD', 'TAX', 'PTRATIO', 'B', 'LSTAT', 'MEDV']\n",
    "# Đọc file CSV (ngăn cách bằng dấu phẩy)\n",
    "dataframe = read_csv(filename, names=names, header=0)  # header=0 nếu có dòng tiêu đề\n",
    "# Tách dữ liệu\n",
    "array = dataframe.values\n",
    "X = array[:, 0:13]\n",
    "Y = array[:, 13]\n",
    "kfold = KFold(n_splits=10, shuffle=True, random_state=7)  # Thêm shuffle để tránh bias\n",
    "model = Ridge()\n",
    "scoring = 'neg_mean_squared_error'\n",
    "results = cross_val_score(model, X, Y, cv=kfold, scoring=scoring)\n",
    "print(results.mean())"
   ]
  },
  {
   "cell_type": "markdown",
   "id": "052875d2",
   "metadata": {},
   "source": [
    "### 12.2.3. LASSO Regression"
   ]
  },
  {
   "cell_type": "code",
   "execution_count": 6,
   "id": "fbf7b7c6",
   "metadata": {},
   "outputs": [
    {
     "name": "stdout",
     "output_type": "stream",
     "text": [
      "-28.74589007585153\n"
     ]
    }
   ],
   "source": [
    "# Lasso Regression\n",
    "from pandas import read_csv\n",
    "from sklearn.model_selection import KFold, cross_val_score\n",
    "from sklearn.linear_model import Lasso\n",
    "# Tên file dữ liệu\n",
    "filename = 'housing.csv'\n",
    "# Tên cột\n",
    "names = ['CRIM', 'ZN', 'INDUS', 'CHAS', 'NOX', 'RM', 'AGE', 'DIS', 'RAD', 'TAX', 'PTRATIO', 'B', 'LSTAT', 'MEDV']\n",
    "# Đọc file CSV (ngăn cách bằng dấu phẩy)\n",
    "dataframe = read_csv(filename, names=names, header=0)  # header=0 nếu có dòng tiêu đề\n",
    "# Tách dữ liệu\n",
    "array = dataframe.values\n",
    "X = array[:, 0:13]\n",
    "Y = array[:, 13]\n",
    "kfold = KFold(n_splits=10, shuffle=True, random_state=7)  # Thêm shuffle để tránh bias\n",
    "model = Lasso()\n",
    "scoring = 'neg_mean_squared_error'\n",
    "results = cross_val_score(model, X, Y, cv=kfold, scoring=scoring)\n",
    "print(results.mean())"
   ]
  },
  {
   "cell_type": "markdown",
   "id": "f1e60beb",
   "metadata": {},
   "source": [
    "### 12.2.4. ElasticNet Regression"
   ]
  },
  {
   "cell_type": "code",
   "execution_count": 7,
   "id": "b91dd6d3",
   "metadata": {},
   "outputs": [
    {
     "name": "stdout",
     "output_type": "stream",
     "text": [
      "-27.908420360231055\n"
     ]
    }
   ],
   "source": [
    "# ElasticNet Regression\n",
    "from pandas import read_csv\n",
    "from sklearn.model_selection import KFold, cross_val_score\n",
    "from sklearn.linear_model import ElasticNet\n",
    "# Tên file dữ liệu\n",
    "filename = 'housing.csv'\n",
    "# Tên cột\n",
    "names = ['CRIM', 'ZN', 'INDUS', 'CHAS', 'NOX', 'RM', 'AGE', 'DIS', 'RAD', 'TAX', 'PTRATIO', 'B', 'LSTAT', 'MEDV']\n",
    "# Đọc file CSV (ngăn cách bằng dấu phẩy)\n",
    "dataframe = read_csv(filename, names=names, header=0)  # header=0 nếu có dòng tiêu đề\n",
    "# Tách dữ liệu\n",
    "array = dataframe.values\n",
    "X = array[:, 0:13]\n",
    "Y = array[:, 13]\n",
    "kfold = KFold(n_splits=10, shuffle=True, random_state=7)  # Thêm shuffle để tránh bias\n",
    "model = ElasticNet()\n",
    "scoring = 'neg_mean_squared_error'\n",
    "results = cross_val_score(model, X, Y, cv=kfold, scoring=scoring)\n",
    "print(results.mean())"
   ]
  },
  {
   "cell_type": "markdown",
   "id": "0d36b90a",
   "metadata": {},
   "source": [
    "## 12.3. Nonlinear Machine Learning Algorithms"
   ]
  },
  {
   "cell_type": "markdown",
   "id": "ad533e2d",
   "metadata": {},
   "source": [
    "### 12.3.1. K-Nearest Neighbors"
   ]
  },
  {
   "cell_type": "code",
   "execution_count": 8,
   "id": "b62cb1f9",
   "metadata": {},
   "outputs": [
    {
     "name": "stdout",
     "output_type": "stream",
     "text": [
      "-38.852320266666666\n"
     ]
    }
   ],
   "source": [
    "# KNN Regression\n",
    "from pandas import read_csv\n",
    "from sklearn.model_selection import KFold, cross_val_score\n",
    "from sklearn.neighbors import KNeighborsRegressor\n",
    "# Tên file dữ liệu\n",
    "filename = 'housing.csv'\n",
    "# Tên cột\n",
    "names = ['CRIM', 'ZN', 'INDUS', 'CHAS', 'NOX', 'RM', 'AGE', 'DIS', 'RAD', 'TAX', 'PTRATIO', 'B', 'LSTAT', 'MEDV']\n",
    "# Đọc file CSV (ngăn cách bằng dấu phẩy)\n",
    "dataframe = read_csv(filename, names=names, header=0)  # header=0 nếu có dòng tiêu đề\n",
    "# Tách dữ liệu\n",
    "array = dataframe.values\n",
    "X = array[:, 0:13]\n",
    "Y = array[:, 13]\n",
    "# KFold cross-validation\n",
    "kfold = KFold(n_splits=10, shuffle=True, random_state=7)  # Thêm shuffle để tránh bias\n",
    "model = KNeighborsRegressor()\n",
    "scoring = 'neg_mean_squared_error'\n",
    "results = cross_val_score(model, X, Y, cv=kfold, scoring=scoring)\n",
    "print(results.mean())"
   ]
  },
  {
   "cell_type": "markdown",
   "id": "7c69473a",
   "metadata": {},
   "source": [
    "### 12.3.2. Classification and Regression Trees"
   ]
  },
  {
   "cell_type": "code",
   "execution_count": 9,
   "id": "f50e1128",
   "metadata": {},
   "outputs": [
    {
     "name": "stdout",
     "output_type": "stream",
     "text": [
      "-20.41011803921569\n"
     ]
    }
   ],
   "source": [
    "# Decision Tree Regression\n",
    "from pandas import read_csv\n",
    "from sklearn.model_selection import KFold, cross_val_score\n",
    "from sklearn.tree import DecisionTreeRegressor\n",
    "# Tên file dữ liệu\n",
    "filename = 'housing.csv'\n",
    "# Tên cột\n",
    "names = ['CRIM', 'ZN', 'INDUS', 'CHAS', 'NOX', 'RM', 'AGE', 'DIS', 'RAD', 'TAX', 'PTRATIO', 'B', 'LSTAT', 'MEDV']\n",
    "# Đọc file CSV (ngăn cách bằng dấu phẩy)\n",
    "dataframe = read_csv(filename, names=names, header=0)  # header=0 nếu có dòng tiêu đề\n",
    "# Tách dữ liệu\n",
    "array = dataframe.values\n",
    "X = array[:, 0:13]\n",
    "Y = array[:, 13]\n",
    "# KFold cross-validation\n",
    "kfold = KFold(n_splits=10, shuffle=True, random_state=7)  # Thêm shuffle để tránh bias\n",
    "model = DecisionTreeRegressor()\n",
    "scoring = 'neg_mean_squared_error'\n",
    "results = cross_val_score(model, X, Y, cv=kfold, scoring=scoring)\n",
    "print(results.mean())"
   ]
  },
  {
   "cell_type": "markdown",
   "id": "48b4b0ee",
   "metadata": {},
   "source": [
    "### 12.3.3. Support Vector Machines"
   ]
  },
  {
   "cell_type": "code",
   "execution_count": 10,
   "id": "0f6e6b4f",
   "metadata": {},
   "outputs": [
    {
     "name": "stdout",
     "output_type": "stream",
     "text": [
      "-67.64140705473743\n"
     ]
    }
   ],
   "source": [
    "# SVM Regression\n",
    "from pandas import read_csv\n",
    "from sklearn.model_selection import KFold, cross_val_score\n",
    "from sklearn.svm import SVR\n",
    "# Tên file dữ liệu\n",
    "filename = 'housing.csv'\n",
    "# Tên cột\n",
    "names = ['CRIM', 'ZN', 'INDUS', 'CHAS', 'NOX', 'RM', 'AGE', 'DIS', 'RAD', 'TAX', 'PTRATIO', 'B', 'LSTAT', 'MEDV']\n",
    "# Đọc file CSV (ngăn cách bằng dấu phẩy)\n",
    "dataframe = read_csv(filename, names=names, header=0)  # header=0 nếu có dòng tiêu đề\n",
    "# Tách dữ liệu\n",
    "array = dataframe.values\n",
    "X = array[:, 0:13]\n",
    "Y = array[:, 13]\n",
    "# KFold cross-validation\n",
    "kfold = KFold(n_splits=10, shuffle=True, random_state=7)  # Thêm shuffle để tránh bias\n",
    "model = SVR()\n",
    "scoring = 'neg_mean_squared_error'\n",
    "results = cross_val_score(model, X, Y, cv=kfold, scoring=scoring)\n",
    "print(results.mean())"
   ]
  }
 ],
 "metadata": {
  "kernelspec": {
   "display_name": "Python 3",
   "language": "python",
   "name": "python3"
  },
  "language_info": {
   "codemirror_mode": {
    "name": "ipython",
    "version": 3
   },
   "file_extension": ".py",
   "mimetype": "text/x-python",
   "name": "python",
   "nbconvert_exporter": "python",
   "pygments_lexer": "ipython3",
   "version": "3.12.1"
  }
 },
 "nbformat": 4,
 "nbformat_minor": 5
}
