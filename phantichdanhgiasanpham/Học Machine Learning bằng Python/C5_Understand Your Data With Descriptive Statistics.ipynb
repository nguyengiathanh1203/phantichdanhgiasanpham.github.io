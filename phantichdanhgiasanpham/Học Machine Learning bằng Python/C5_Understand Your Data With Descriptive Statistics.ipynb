{
 "cells": [
  {
   "cell_type": "markdown",
   "metadata": {},
   "source": [
    "# Chapter 5: Understand Your Data With Descriptive Statistics"
   ]
  },
  {
   "cell_type": "markdown",
   "metadata": {},
   "source": [
    "## 5.1. Peek at Your Data"
   ]
  },
  {
   "cell_type": "code",
   "execution_count": 15,
   "metadata": {},
   "outputs": [
    {
     "name": "stdout",
     "output_type": "stream",
     "text": [
      "    Pregnancies  Glucose  BloodPressure  SkinThickness  Insulin    BMI  DiabetesPedigreeFunction  \\\n",
      "0             6      148             72             35        0 33.600                     0.627   \n",
      "1             1       85             66             29        0 26.600                     0.351   \n",
      "2             8      183             64              0        0 23.300                     0.672   \n",
      "3             1       89             66             23       94 28.100                     0.167   \n",
      "4             0      137             40             35      168 43.100                     2.288   \n",
      "5             5      116             74              0        0 25.600                     0.201   \n",
      "6             3       78             50             32       88 31.000                     0.248   \n",
      "7            10      115              0              0        0 35.300                     0.134   \n",
      "8             2      197             70             45      543 30.500                     0.158   \n",
      "9             8      125             96              0        0  0.000                     0.232   \n",
      "10            4      110             92              0        0 37.600                     0.191   \n",
      "11           10      168             74              0        0 38.000                     0.537   \n",
      "12           10      139             80              0        0 27.100                     1.441   \n",
      "13            1      189             60             23      846 30.100                     0.398   \n",
      "14            5      166             72             19      175 25.800                     0.587   \n",
      "15            7      100              0              0        0 30.000                     0.484   \n",
      "16            0      118             84             47      230 45.800                     0.551   \n",
      "17            7      107             74              0        0 29.600                     0.254   \n",
      "18            1      103             30             38       83 43.300                     0.183   \n",
      "19            1      115             70             30       96 34.600                     0.529   \n",
      "\n",
      "    Age  Outcome  \n",
      "0    50        1  \n",
      "1    31        0  \n",
      "2    32        1  \n",
      "3    21        0  \n",
      "4    33        1  \n",
      "5    30        0  \n",
      "6    26        1  \n",
      "7    29        0  \n",
      "8    53        1  \n",
      "9    54        1  \n",
      "10   30        0  \n",
      "11   34        1  \n",
      "12   57        0  \n",
      "13   59        1  \n",
      "14   51        1  \n",
      "15   32        1  \n",
      "16   31        1  \n",
      "17   31        1  \n",
      "18   33        0  \n",
      "19   32        1  \n"
     ]
    }
   ],
   "source": [
    "# View first 20 rows\n",
    "from pandas import read_csv\n",
    "filename = \"pima-indians-diabetes-dataset.csv\"\n",
    "data = read_csv(filename)\n",
    "peek = data.head(20)\n",
    "print(peek)"
   ]
  },
  {
   "cell_type": "markdown",
   "metadata": {},
   "source": [
    "## 5.2. Dimensions of Your Data"
   ]
  },
  {
   "cell_type": "code",
   "execution_count": 16,
   "metadata": {},
   "outputs": [
    {
     "name": "stdout",
     "output_type": "stream",
     "text": [
      "(768, 9)\n"
     ]
    }
   ],
   "source": [
    "# Dimensions of your data\n",
    "import pandas as pd\n",
    "filename = 'pima-indians-diabetes-dataset.csv' # File thay thế\n",
    "# Đổi names cho phù hợp với file\n",
    "names = ['Pregnancies', 'Glucose', 'BloodPressure', 'SkinThickness', 'Insulin', 'BMI', 'DiabetesPedigreeFunction', 'Age', 'Outcome']\n",
    "# Đọc file CSV, bỏ qua dòng tiêu đề gốc để sử dụng danh sách tên cột đã định nghĩa\n",
    "data = pd.read_csv(filename, names=names, header=0)\n",
    "shape = data.shape\n",
    "print(shape)"
   ]
  },
  {
   "cell_type": "markdown",
   "metadata": {},
   "source": [
    "## 5.3. Data Type For Each Attribute"
   ]
  },
  {
   "cell_type": "code",
   "execution_count": 17,
   "metadata": {},
   "outputs": [
    {
     "name": "stdout",
     "output_type": "stream",
     "text": [
      "Pregnancies                   int64\n",
      "Glucose                       int64\n",
      "BloodPressure                 int64\n",
      "SkinThickness                 int64\n",
      "Insulin                       int64\n",
      "BMI                         float64\n",
      "DiabetesPedigreeFunction    float64\n",
      "Age                           int64\n",
      "Outcome                       int64\n",
      "dtype: object\n"
     ]
    }
   ],
   "source": [
    "# Data Types for Each Attribute\n",
    "import pandas as pd\n",
    "filename = 'pima-indians-diabetes-dataset.csv' # File thay thế\n",
    "# Đổi names cho phù hợp với file\n",
    "names = ['Pregnancies', 'Glucose', 'BloodPressure', 'SkinThickness', 'Insulin', 'BMI', 'DiabetesPedigreeFunction', 'Age', 'Outcome']\n",
    "# Đọc file CSV, bỏ qua dòng tiêu đề gốc để sử dụng danh sách tên cột đã định nghĩa\n",
    "data = pd.read_csv(filename, names=names, header=0)\n",
    "types = data.dtypes\n",
    "print(types)"
   ]
  },
  {
   "cell_type": "markdown",
   "metadata": {},
   "source": [
    "## 5.4. Descriptive Statistics"
   ]
  },
  {
   "cell_type": "code",
   "execution_count": null,
   "metadata": {},
   "outputs": [
    {
     "name": "stdout",
     "output_type": "stream",
     "text": [
      "       Pregnancies  Glucose  BloodPressure  SkinThickness  Insulin     BMI  \\\n",
      "count      768.000  768.000        768.000        768.000  768.000 768.000   \n",
      "mean         3.845  120.895         69.105         20.536   79.799  31.993   \n",
      "std          3.370   31.973         19.356         15.952  115.244   7.884   \n",
      "min          0.000    0.000          0.000          0.000    0.000   0.000   \n",
      "25%          1.000   99.000         62.000          0.000    0.000  27.300   \n",
      "50%          3.000  117.000         72.000         23.000   30.500  32.000   \n",
      "75%          6.000  140.250         80.000         32.000  127.250  36.600   \n",
      "max         17.000  199.000        122.000         99.000  846.000  67.100   \n",
      "\n",
      "       DiabetesPedigreeFunction     Age  Outcome  \n",
      "count                   768.000 768.000  768.000  \n",
      "mean                      0.472  33.241    0.349  \n",
      "std                       0.331  11.760    0.477  \n",
      "min                       0.078  21.000    0.000  \n",
      "25%                       0.244  24.000    0.000  \n",
      "50%                       0.372  29.000    0.000  \n",
      "75%                       0.626  41.000    1.000  \n",
      "max                       2.420  81.000    1.000  \n"
     ]
    }
   ],
   "source": [
    "# Statistical Summary\n",
    "import pandas as pd\n",
    "filename = 'pima-indians-diabetes-dataset.csv' # File thay thế\n",
    "# Đổi names cho phù hợp với file\n",
    "names = ['Pregnancies', 'Glucose', 'BloodPressure', 'SkinThickness', 'Insulin', 'BMI', 'DiabetesPedigreeFunction', 'Age', 'Outcome']\n",
    "# Đọc file CSV, bỏ qua dòng tiêu đề gốc\n",
    "data = pd.read_csv(filename, names=names, header=0)\n",
    "# Thiết lập hiển thị\n",
    "pd.set_option('display.width', 100)\n",
    "pd.set_option('display.float_format', '{:.3f}'.format)  # Thay thế 'precision'\n",
    "# Hiển thị thống kê mô tả\n",
    "description = data.describe()\n",
    "print(description)\n"
   ]
  },
  {
   "cell_type": "markdown",
   "metadata": {},
   "source": [
    "## 5.5. Class Distribution (Classification Only)"
   ]
  },
  {
   "cell_type": "code",
   "execution_count": null,
   "metadata": {},
   "outputs": [
    {
     "name": "stdout",
     "output_type": "stream",
     "text": [
      "Outcome\n",
      "0    500\n",
      "1    268\n",
      "dtype: int64\n"
     ]
    }
   ],
   "source": [
    "# Class Distribution\n",
    "import pandas as pd\n",
    "filename = 'pima-indians-diabetes-dataset.csv'  # File thay thế\n",
    "# Định nghĩa tên cột theo đúng cấu trúc của file CSV\n",
    "names = ['Pregnancies', 'Glucose', 'BloodPressure', 'SkinThickness', 'Insulin', 'BMI', 'DiabetesPedigreeFunction', 'Age', 'Outcome']\n",
    "# Đọc dữ liệu với tiêu đề cột mới\n",
    "data = pd.read_csv(filename, names=names, header=0)\n",
    "# Đếm số lượng mẫu theo mỗi lớp trong cột 'Outcome'\n",
    "class_counts = data.groupby('Outcome').size()\n",
    "# In kết quả\n",
    "print(class_counts)"
   ]
  },
  {
   "cell_type": "markdown",
   "metadata": {},
   "source": [
    "## 5.6. Correlations Between Attributes"
   ]
  },
  {
   "cell_type": "code",
   "execution_count": null,
   "metadata": {},
   "outputs": [
    {
     "name": "stdout",
     "output_type": "stream",
     "text": [
      "                          Pregnancies  Glucose  BloodPressure  SkinThickness  Insulin   BMI  \\\n",
      "Pregnancies                     1.000    0.129          0.141         -0.082   -0.074 0.018   \n",
      "Glucose                         0.129    1.000          0.153          0.057    0.331 0.221   \n",
      "BloodPressure                   0.141    0.153          1.000          0.207    0.089 0.282   \n",
      "SkinThickness                  -0.082    0.057          0.207          1.000    0.437 0.393   \n",
      "Insulin                        -0.074    0.331          0.089          0.437    1.000 0.198   \n",
      "BMI                             0.018    0.221          0.282          0.393    0.198 1.000   \n",
      "DiabetesPedigreeFunction       -0.034    0.137          0.041          0.184    0.185 0.141   \n",
      "Age                             0.544    0.264          0.240         -0.114   -0.042 0.036   \n",
      "Outcome                         0.222    0.467          0.065          0.075    0.131 0.293   \n",
      "\n",
      "                          DiabetesPedigreeFunction    Age  Outcome  \n",
      "Pregnancies                                 -0.034  0.544    0.222  \n",
      "Glucose                                      0.137  0.264    0.467  \n",
      "BloodPressure                                0.041  0.240    0.065  \n",
      "SkinThickness                                0.184 -0.114    0.075  \n",
      "Insulin                                      0.185 -0.042    0.131  \n",
      "BMI                                          0.141  0.036    0.293  \n",
      "DiabetesPedigreeFunction                     1.000  0.034    0.174  \n",
      "Age                                          0.034  1.000    0.238  \n",
      "Outcome                                      0.174  0.238    1.000  \n"
     ]
    }
   ],
   "source": [
    "# Pairwise Pearson correlations\n",
    "import pandas as pd\n",
    "filename = 'pima-indians-diabetes-dataset.csv'  # File thay thế\n",
    "# Định nghĩa tên cột theo đúng cấu trúc của file CSV\n",
    "names = ['Pregnancies', 'Glucose', 'BloodPressure', 'SkinThickness', 'Insulin', 'BMI', 'DiabetesPedigreeFunction', 'Age', 'Outcome']\n",
    "data = read_csv(filename, names=names, header=0)\n",
    "pd.set_option('display.width', 100)\n",
    "pd.set_option('display.float_format', '{:.3f}'.format)  # Thay thế 'precision'\n",
    "correlations = data.corr(method='pearson')\n",
    "print(correlations)"
   ]
  },
  {
   "cell_type": "markdown",
   "metadata": {},
   "source": [
    "## 5.7. Skew of Univariate Distributions"
   ]
  },
  {
   "cell_type": "code",
   "execution_count": 23,
   "metadata": {},
   "outputs": [
    {
     "name": "stdout",
     "output_type": "stream",
     "text": [
      "Pregnancies                 0.902\n",
      "Glucose                     0.174\n",
      "BloodPressure              -1.844\n",
      "SkinThickness               0.109\n",
      "Insulin                     2.272\n",
      "BMI                        -0.429\n",
      "DiabetesPedigreeFunction    1.920\n",
      "Age                         1.130\n",
      "Outcome                     0.635\n",
      "dtype: float64\n"
     ]
    }
   ],
   "source": [
    "# Skew for each attribute\n",
    "import pandas as pd\n",
    "filename = 'pima-indians-diabetes-dataset.csv'  # File thay thế\n",
    "# Định nghĩa tên cột theo đúng cấu trúc của file CSV\n",
    "names = ['Pregnancies', 'Glucose', 'BloodPressure', 'SkinThickness', 'Insulin', 'BMI', 'DiabetesPedigreeFunction', 'Age', 'Outcome']\n",
    "data = read_csv(filename, names=names, header=0)\n",
    "skew = data.skew()\n",
    "print(skew)"
   ]
  }
 ],
 "metadata": {
  "kernelspec": {
   "display_name": "Python 3",
   "language": "python",
   "name": "python3"
  },
  "language_info": {
   "codemirror_mode": {
    "name": "ipython",
    "version": 3
   },
   "file_extension": ".py",
   "mimetype": "text/x-python",
   "name": "python",
   "nbconvert_exporter": "python",
   "pygments_lexer": "ipython3",
   "version": "3.12.1"
  }
 },
 "nbformat": 4,
 "nbformat_minor": 2
}
