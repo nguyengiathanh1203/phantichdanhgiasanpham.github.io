{
 "cells": [
  {
   "cell_type": "markdown",
   "id": "811c8bda",
   "metadata": {},
   "source": [
    "# Chapter 17: Save and Load Machine Learning Models"
   ]
  },
  {
   "cell_type": "markdown",
   "id": "bfbb1726",
   "metadata": {},
   "source": [
    "## 17.1. Finalize Your Model with pickle"
   ]
  },
  {
   "cell_type": "code",
   "execution_count": 6,
   "id": "13dddfc0",
   "metadata": {},
   "outputs": [
    {
     "name": "stdout",
     "output_type": "stream",
     "text": [
      "0.7874015748031497\n"
     ]
    },
    {
     "name": "stderr",
     "output_type": "stream",
     "text": [
      "/home/codespace/.local/lib/python3.12/site-packages/sklearn/linear_model/_logistic.py:465: ConvergenceWarning: lbfgs failed to converge (status=1):\n",
      "STOP: TOTAL NO. OF ITERATIONS REACHED LIMIT.\n",
      "\n",
      "Increase the number of iterations (max_iter) or scale the data as shown in:\n",
      "    https://scikit-learn.org/stable/modules/preprocessing.html\n",
      "Please also refer to the documentation for alternative solver options:\n",
      "    https://scikit-learn.org/stable/modules/linear_model.html#logistic-regression\n",
      "  n_iter_i = _check_optimize_result(\n"
     ]
    }
   ],
   "source": [
    "# Save Model Using Pickle\n",
    "from pandas import read_csv\n",
    "from sklearn.model_selection import train_test_split\n",
    "from sklearn.linear_model import LogisticRegression\n",
    "from pickle import dump\n",
    "from pickle import load\n",
    "# Tên file dữ liệu\n",
    "filename = 'pima-indians-diabetes-dataset.csv'\n",
    "# Đặt tên cột phù hợp\n",
    "names = ['Pregnancies', 'Glucose', 'BloodPressure', 'SkinThickness', 'Insulin','BMI', 'DiabetesPedigreeFunction', 'Age', 'Outcome']\n",
    "# Đọc dữ liệu\n",
    "dataframe = read_csv(filename, names=names, header=0)\n",
    "X = dataframe.iloc[:, 0:8].values\n",
    "Y = dataframe.iloc[:, 8].values\n",
    "X_train, X_test, Y_train, Y_test = train_test_split(X, Y, test_size=0.33, random_state=7)\n",
    "# Fit the model on 33%\n",
    "model = LogisticRegression()\n",
    "model.fit(X_train, Y_train)\n",
    "# save the model to disk\n",
    "filename = 'finalized_model.sav'\n",
    "dump(model, open(filename, 'wb'))\n",
    "# some time later...\n",
    "# load the model from disk\n",
    "loaded_model = load(open(filename, 'rb'))\n",
    "result = loaded_model.score(X_test, Y_test)\n",
    "print(result)"
   ]
  },
  {
   "cell_type": "markdown",
   "id": "b35fe45b",
   "metadata": {},
   "source": [
    "## 17.2. Finalize Your Model with Joblib"
   ]
  },
  {
   "cell_type": "code",
   "execution_count": 2,
   "id": "1472c338",
   "metadata": {},
   "outputs": [
    {
     "name": "stdout",
     "output_type": "stream",
     "text": [
      "Accuracy: 0.7874\n"
     ]
    }
   ],
   "source": [
    "# Save Model Using Pickle\n",
    "from pandas import read_csv\n",
    "from sklearn.model_selection import train_test_split\n",
    "from sklearn.linear_model import LogisticRegression\n",
    "from pickle import dump, load\n",
    "# Tên file dữ liệu\n",
    "filename = 'pima-indians-diabetes-dataset.csv'\n",
    "# Đặt tên cột phù hợp\n",
    "names = ['Pregnancies', 'Glucose', 'BloodPressure', 'SkinThickness', 'Insulin', 'BMI', 'DiabetesPedigreeFunction', 'Age', 'Outcome']\n",
    "# Đọc dữ liệu\n",
    "dataframe = read_csv(filename, names=names, header=0)\n",
    "X = dataframe.iloc[:, 0:8].values\n",
    "Y = dataframe.iloc[:, 8].values\n",
    "# Chia dữ liệu train/test\n",
    "X_train, X_test, Y_train, Y_test = train_test_split(X, Y, test_size=0.33, random_state=7)\n",
    "# Huấn luyện mô hình\n",
    "model = LogisticRegression(max_iter=1000)  # Thêm max_iter để tránh cảnh báo\n",
    "model.fit(X_train, Y_train)\n",
    "# Lưu mô hình vào file\n",
    "model_filename = 'finalized_model.sav'\n",
    "dump(model, open(model_filename, 'wb'))\n",
    "# Một lúc sau... tải mô hình và đánh giá\n",
    "loaded_model = load(open(model_filename, 'rb'))\n",
    "result = loaded_model.score(X_test, Y_test)\n",
    "print(f\"Accuracy: {result:.4f}\")"
   ]
  }
 ],
 "metadata": {
  "kernelspec": {
   "display_name": "Python 3",
   "language": "python",
   "name": "python3"
  },
  "language_info": {
   "codemirror_mode": {
    "name": "ipython",
    "version": 3
   },
   "file_extension": ".py",
   "mimetype": "text/x-python",
   "name": "python",
   "nbconvert_exporter": "python",
   "pygments_lexer": "ipython3",
   "version": "3.12.1"
  }
 },
 "nbformat": 4,
 "nbformat_minor": 5
}
