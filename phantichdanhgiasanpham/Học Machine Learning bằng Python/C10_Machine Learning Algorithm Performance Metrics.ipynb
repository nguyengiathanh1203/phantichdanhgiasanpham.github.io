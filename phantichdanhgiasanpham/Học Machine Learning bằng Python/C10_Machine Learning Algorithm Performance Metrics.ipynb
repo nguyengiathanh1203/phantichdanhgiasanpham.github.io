{
 "cells": [
  {
   "cell_type": "markdown",
   "id": "2244f06f",
   "metadata": {},
   "source": [
    "# Chapter 10: Machine Learning Algorithm Performance Metrics"
   ]
  },
  {
   "cell_type": "markdown",
   "id": "c29b756a",
   "metadata": {},
   "source": [
    "## 10.2. Classification Metrics"
   ]
  },
  {
   "cell_type": "markdown",
   "id": "7a06c7d8",
   "metadata": {},
   "source": [
    "### 10.2.1. Classification Accuracy"
   ]
  },
  {
   "cell_type": "code",
   "execution_count": null,
   "id": "741947ec",
   "metadata": {},
   "outputs": [
    {
     "name": "stdout",
     "output_type": "stream",
     "text": [
      "Accuracy: 0.772 (0.050)\n"
     ]
    }
   ],
   "source": [
    "# Cross Validation Classification Accuracy\n",
    "import pandas as pd\n",
    "from sklearn.model_selection import KFold, cross_val_score\n",
    "from sklearn.linear_model import LogisticRegression\n",
    "# Tên file dữ liệu\n",
    "filename = 'pima-indians-diabetes-dataset.csv'\n",
    "# Đặt tên cột phù hợp\n",
    "names = ['Pregnancies', 'Glucose', 'BloodPressure', 'SkinThickness', 'Insulin', 'BMI', 'DiabetesPedigreeFunction', 'Age', 'Outcome']\n",
    "# Đọc dữ liệu\n",
    "data = pd.read_csv(filename, names=names, header=0)\n",
    "array = data.values\n",
    "X = array[:, :-1].values\n",
    "y = array[:, -1].values\n",
    "# Cấu hình K-Fold Cross Validation\n",
    "kfold = KFold(n_splits=10, shuffle=True, random_state=7)  # Thêm shuffle để xáo trộn dữ liệu\n",
    "model = LogisticRegression(max_iter=200)\n",
    "scoring = 'accuracy'\n",
    "# Đánh giá mô hình\n",
    "results = cross_val_score(model, X, y, cv=kfold, scoring=scoring)\n",
    "# In kết quả\n",
    "print(\"Accuracy: {:.3f} ({:.3f})\".format(results.mean(), results.std()))"
   ]
  },
  {
   "cell_type": "markdown",
   "id": "57f3dc58",
   "metadata": {},
   "source": [
    "### 10.2.2. Logarithmic Loss"
   ]
  },
  {
   "cell_type": "code",
   "execution_count": null,
   "id": "423a5f6a",
   "metadata": {},
   "outputs": [
    {
     "name": "stdout",
     "output_type": "stream",
     "text": [
      "LogLoss: 0.485 (0.057)\n"
     ]
    }
   ],
   "source": [
    "# Cross Validation Classification LogLoss\n",
    "import pandas as pd\n",
    "from sklearn.model_selection import KFold, cross_val_score\n",
    "from sklearn.linear_model import LogisticRegression\n",
    "# Tên file dữ liệu\n",
    "filename = 'pima-indians-diabetes-dataset.csv'\n",
    "# Đặt tên cột phù hợp\n",
    "names = ['Pregnancies', 'Glucose', 'BloodPressure', 'SkinThickness', 'Insulin', 'BMI', 'DiabetesPedigreeFunction', 'Age', 'Outcome']\n",
    "# Đọc dữ liệu\n",
    "data = pd.read_csv(filename, names=names, header=0)\n",
    "array = data.values\n",
    "X = array[:, :-1].values\n",
    "y = array[:, -1].values\n",
    "# Cấu hình K-Fold Cross Validation\n",
    "kfold = KFold(n_splits=10, shuffle=True, random_state=7)\n",
    "model = LogisticRegression(max_iter=200)\n",
    "# Đánh giá bằng log loss\n",
    "scoring = 'neg_log_loss'\n",
    "results = cross_val_score(model, X, y, cv=kfold, scoring=scoring)\n",
    "# In kết quả (đổi dấu vì sklearn trả về giá trị âm của log loss)\n",
    "print(\"LogLoss: {:.3f} ({:.3f})\".format(-results.mean(), results.std()))"
   ]
  },
  {
   "cell_type": "markdown",
   "id": "f0d5aec5",
   "metadata": {},
   "source": [
    "### 10.2.3. Area Under ROC Curve"
   ]
  },
  {
   "cell_type": "code",
   "execution_count": null,
   "id": "983e913a",
   "metadata": {},
   "outputs": [
    {
     "name": "stdout",
     "output_type": "stream",
     "text": [
      "AUC: 0.829 (0.047)\n"
     ]
    }
   ],
   "source": [
    "# Cross Validation Classification ROC AUC\n",
    "import pandas as pd\n",
    "from sklearn.model_selection import KFold, cross_val_score\n",
    "from sklearn.linear_model import LogisticRegression\n",
    "# Tên file dữ liệu\n",
    "filename = 'pima-indians-diabetes-dataset.csv'\n",
    "# Đặt tên cột phù hợp\n",
    "names = ['Pregnancies', 'Glucose', 'BloodPressure', 'SkinThickness', 'Insulin', 'BMI', 'DiabetesPedigreeFunction', 'Age', 'Outcome']\n",
    "# Đọc dữ liệu\n",
    "data = pd.read_csv(filename, names=names, header=0)\n",
    "array = data.values\n",
    "X = array[:, :-1].values\n",
    "y = array[:, -1].values\n",
    "# Cấu hình Cross-Validation\n",
    "kfold = KFold(n_splits=10, shuffle=True, random_state=7)\n",
    "model = LogisticRegression(max_iter=200)\n",
    "scoring = 'roc_auc'\n",
    "# Tính điểm AUC\n",
    "results = cross_val_score(model, X, y, cv=kfold, scoring=scoring)\n",
    "# In kết quả\n",
    "print(\"AUC: {:.3f} ({:.3f})\".format(results.mean(), results.std()))"
   ]
  },
  {
   "cell_type": "markdown",
   "id": "99aa809d",
   "metadata": {},
   "source": [
    "### 10.2.4. Confusion Matrix"
   ]
  },
  {
   "cell_type": "code",
   "execution_count": 10,
   "id": "6e542ffb",
   "metadata": {},
   "outputs": [
    {
     "name": "stdout",
     "output_type": "stream",
     "text": [
      "Confusion Matrix:\n",
      "[[142  20]\n",
      " [ 34  58]]\n"
     ]
    }
   ],
   "source": [
    "# Cross Validation Classification Confusion Matrix\n",
    "import pandas as pd\n",
    "from sklearn.model_selection import train_test_split\n",
    "from sklearn.linear_model import LogisticRegression\n",
    "from sklearn.metrics import confusion_matrix\n",
    "# Tên file dữ liệu\n",
    "filename = 'pima-indians-diabetes-dataset.csv'\n",
    "# Đặt tên cột phù hợp\n",
    "names = ['Pregnancies', 'Glucose', 'BloodPressure', 'SkinThickness', 'Insulin', 'BMI', 'DiabetesPedigreeFunction', 'Age', 'Outcome']\n",
    "# Đọc dữ liệu\n",
    "data = pd.read_csv(filename, names=names, header=0)\n",
    "X = data.iloc[:, 0:8].values\n",
    "y = data.iloc[:, 8].values\n",
    "# Chia tập train/test\n",
    "test_size = 0.33\n",
    "seed = 7\n",
    "X_train, X_test, y_train, y_test = train_test_split(X, y, test_size=test_size, random_state=seed)\n",
    "# Huấn luyện mô hình\n",
    "model = LogisticRegression(max_iter=200)\n",
    "model.fit(X_train, y_train)\n",
    "# Dự đoán và tính confusion matrix\n",
    "predicted = model.predict(X_test)\n",
    "matrix = confusion_matrix(y_test, predicted)\n",
    "# In confusion matrix\n",
    "print(\"Confusion Matrix:\")\n",
    "print(matrix)"
   ]
  },
  {
   "cell_type": "markdown",
   "id": "f26969c0",
   "metadata": {},
   "source": [
    "### 10.2.5. Classification Report"
   ]
  },
  {
   "cell_type": "code",
   "execution_count": 12,
   "id": "3f7f9163",
   "metadata": {},
   "outputs": [
    {
     "name": "stdout",
     "output_type": "stream",
     "text": [
      "Classification Report:\n",
      "              precision    recall  f1-score   support\n",
      "\n",
      "           0       0.81      0.88      0.84       162\n",
      "           1       0.74      0.63      0.68        92\n",
      "\n",
      "    accuracy                           0.79       254\n",
      "   macro avg       0.78      0.75      0.76       254\n",
      "weighted avg       0.78      0.79      0.78       254\n",
      "\n"
     ]
    }
   ],
   "source": [
    "# Cross Validation Classification Report\n",
    "import pandas as pd\n",
    "from sklearn.model_selection import train_test_split\n",
    "from sklearn.linear_model import LogisticRegression\n",
    "from sklearn.metrics import classification_report\n",
    "# Tên file dữ liệu\n",
    "filename = 'pima-indians-diabetes-dataset.csv'\n",
    "# Đặt tên cột phù hợp\n",
    "names = ['Pregnancies', 'Glucose', 'BloodPressure', 'SkinThickness', 'Insulin',  'BMI', 'DiabetesPedigreeFunction', 'Age', 'Outcome']\n",
    "# Đọc dữ liệu\n",
    "data = pd.read_csv(filename, names=names, header=0)\n",
    "X = data.iloc[:, 0:8].values\n",
    "Y = data.iloc[:, 8].values\n",
    "# Chia dữ liệu thành tập huấn luyện và kiểm tra\n",
    "test_size = 0.33\n",
    "seed = 7\n",
    "X_train, X_test, Y_train, Y_test = train_test_split(X, Y, test_size=test_size, random_state=seed)\n",
    "# Huấn luyện mô hình Logistic Regression\n",
    "model = LogisticRegression(max_iter=200)\n",
    "model.fit(X_train, Y_train)\n",
    "# Dự đoán và hiển thị báo cáo phân loại\n",
    "predicted = model.predict(X_test)\n",
    "report = classification_report(Y_test, predicted)\n",
    "print(\"Classification Report:\")\n",
    "print(report)"
   ]
  },
  {
   "cell_type": "markdown",
   "id": "c21891e4",
   "metadata": {},
   "source": [
    "## 10.3. Regression Metrics"
   ]
  },
  {
   "cell_type": "markdown",
   "id": "827767e6",
   "metadata": {},
   "source": [
    "### 10.3.1. Mean Absolute Error"
   ]
  },
  {
   "cell_type": "code",
   "execution_count": null,
   "id": "a4bc33ce",
   "metadata": {},
   "outputs": [],
   "source": [
    "# Cross Validation Regression MAE\n",
    "from pandas import read_csv\n",
    "from sklearn.model_selection import KFold\n",
    "from sklearn.model_selection import cross_val_score\n",
    "from sklearn.linear_model import LinearRegression\n",
    "filename = 'housing.csv'\n",
    "names = ['CRIM', 'ZN', 'INDUS', 'CHAS', 'NOX', 'RM', 'AGE', 'DIS', 'RAD', 'TAX', 'PTRATIO',\n",
    "'B', 'LSTAT', 'MEDV']\n",
    "dataframe = read_csv(filename, delim_whitespace=True, names=names)\n",
    "array = dataframe.values\n",
    "X = array[:,0:13]\n",
    "Y = array[:,13]\n",
    "kfold = KFold(n_splits=10, random_state=7)\n",
    "model = LinearRegression()\n",
    "scoring = 'neg_mean_absolute_error'\n",
    "results = cross_val_score(model, X, Y, cv=kfold, scoring=scoring)"
   ]
  }
 ],
 "metadata": {
  "kernelspec": {
   "display_name": "Python 3",
   "language": "python",
   "name": "python3"
  },
  "language_info": {
   "codemirror_mode": {
    "name": "ipython",
    "version": 3
   },
   "file_extension": ".py",
   "mimetype": "text/x-python",
   "name": "python",
   "nbconvert_exporter": "python",
   "pygments_lexer": "ipython3",
   "version": "3.12.1"
  }
 },
 "nbformat": 4,
 "nbformat_minor": 5
}
