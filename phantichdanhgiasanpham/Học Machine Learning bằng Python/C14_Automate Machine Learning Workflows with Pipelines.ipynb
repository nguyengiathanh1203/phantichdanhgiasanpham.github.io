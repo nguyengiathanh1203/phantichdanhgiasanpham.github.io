{
 "cells": [
  {
   "cell_type": "markdown",
   "id": "a804334e",
   "metadata": {},
   "source": [
    "# Chapter 14: Automate Machine Learning Workflows with Pipelines"
   ]
  },
  {
   "cell_type": "markdown",
   "id": "0f93a100",
   "metadata": {},
   "source": [
    "## 14.2. Data Preparation and Modeling Pipeline"
   ]
  },
  {
   "cell_type": "code",
   "execution_count": null,
   "id": "c07b9fa8",
   "metadata": {},
   "outputs": [
    {
     "name": "stdout",
     "output_type": "stream",
     "text": [
      "Accuracy: 0.7670\n"
     ]
    }
   ],
   "source": [
    "# Create a pipeline that standardizes the data then creates a model\n",
    "from pandas import read_csv\n",
    "from sklearn.model_selection import KFold, cross_val_score\n",
    "from sklearn.preprocessing import StandardScaler\n",
    "from sklearn.pipeline import Pipeline\n",
    "from sklearn.discriminant_analysis import LinearDiscriminantAnalysis\n",
    "# Tên file dữ liệu\n",
    "filename = 'pima-indians-diabetes-dataset.csv'\n",
    "# Đặt tên cột phù hợp\n",
    "names = ['Pregnancies', 'Glucose', 'BloodPressure', 'SkinThickness', 'Insulin', 'BMI', 'DiabetesPedigreeFunction', 'Age', 'Outcome']\n",
    "# Đọc dữ liệu\n",
    "dataframe = read_csv(filename, names=names, header=0)\n",
    "X = dataframe.iloc[:, 0:8].values\n",
    "Y = dataframe.iloc[:, 8].values\n",
    "# Tạo pipeline\n",
    "estimators = [\n",
    "    ('standardize', StandardScaler()),\n",
    "    ('lda', LinearDiscriminantAnalysis())\n",
    "]\n",
    "model = Pipeline(estimators)\n",
    "# Đánh giá pipeline bằng cross-validation\n",
    "kfold = KFold(n_splits=10, shuffle=True, random_state=7)\n",
    "results = cross_val_score(model, X, Y, cv=kfold)\n",
    "# In kết quả chính xác trung bình\n",
    "print(f\"Accuracy: {results.mean():.4f}\")"
   ]
  },
  {
   "cell_type": "markdown",
   "id": "1756e579",
   "metadata": {},
   "source": [
    "## 14.3. Feature Extraction and Modeling Pipeline"
   ]
  },
  {
   "cell_type": "code",
   "execution_count": null,
   "id": "68e4d82a",
   "metadata": {},
   "outputs": [
    {
     "name": "stdout",
     "output_type": "stream",
     "text": [
      "Accuracy: 0.7722\n"
     ]
    }
   ],
   "source": [
    "# Create a pipeline that extracts features from the data then creates a model\n",
    "from pandas import read_csv\n",
    "from sklearn.model_selection import KFold, cross_val_score\n",
    "from sklearn.pipeline import Pipeline, FeatureUnion\n",
    "from sklearn.linear_model import LogisticRegression\n",
    "from sklearn.decomposition import PCA\n",
    "from sklearn.feature_selection import SelectKBest\n",
    "from sklearn.feature_selection import f_classif  # Cần thiết cho SelectKBest\n",
    "# Tên file dữ liệu\n",
    "filename = 'pima-indians-diabetes-dataset.csv'\n",
    "# Đặt tên cột phù hợp\n",
    "names = ['Pregnancies', 'Glucose', 'BloodPressure', 'SkinThickness', 'Insulin', 'BMI', 'DiabetesPedigreeFunction', 'Age', 'Outcome']\n",
    "# Đọc dữ liệu\n",
    "dataframe = read_csv(filename, names=names, header=0)\n",
    "X = dataframe.iloc[:, 0:8].values\n",
    "Y = dataframe.iloc[:, 8].values\n",
    "# Tạo feature union\n",
    "features = []\n",
    "features.append(('pca', PCA(n_components=3)))\n",
    "features.append(('select_best', SelectKBest(score_func=f_classif, k=6)))  # cần định nghĩa score_func\n",
    "feature_union = FeatureUnion(features)\n",
    "# Tạo pipeline\n",
    "estimators = []\n",
    "estimators.append(('features', feature_union))\n",
    "estimators.append(('logistic', LogisticRegression(solver='liblinear')))\n",
    "model = Pipeline(estimators)\n",
    "# Đánh giá pipeline\n",
    "kfold = KFold(n_splits=10, shuffle=True, random_state=7)\n",
    "results = cross_val_score(model, X, Y, cv=kfold)\n",
    "print(f\"Accuracy: {results.mean():.4f}\")"
   ]
  }
 ],
 "metadata": {
  "kernelspec": {
   "display_name": "Python 3",
   "language": "python",
   "name": "python3"
  },
  "language_info": {
   "codemirror_mode": {
    "name": "ipython",
    "version": 3
   },
   "file_extension": ".py",
   "mimetype": "text/x-python",
   "name": "python",
   "nbconvert_exporter": "python",
   "pygments_lexer": "ipython3",
   "version": "3.12.1"
  }
 },
 "nbformat": 4,
 "nbformat_minor": 5
}
